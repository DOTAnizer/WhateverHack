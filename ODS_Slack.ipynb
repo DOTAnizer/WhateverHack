{
 "cells": [
  {
   "cell_type": "code",
   "execution_count": null,
   "metadata": {},
   "outputs": [],
   "source": [
    "import glob\n",
    "import numpy as np\n",
    "import pandas as pd\n",
    "\n",
    "from nltk.tokenize import TweetTokenizer, ToktokTokenizer\n",
    "import re\n",
    "\n",
    "%matplotlib inline"
   ]
  },
  {
   "cell_type": "code",
   "execution_count": 14,
   "metadata": {},
   "outputs": [],
   "source": [
    "pd.set_option('display.max_columns', len(df.columns))"
   ]
  },
  {
   "cell_type": "code",
   "execution_count": 273,
   "metadata": {},
   "outputs": [],
   "source": [
    "random_flood = glob.glob('data/opendatascience Slack export Feb 8 2018/_random_flood/*.json')"
   ]
  },
  {
   "cell_type": "code",
   "execution_count": 269,
   "metadata": {},
   "outputs": [],
   "source": [
    "deep_learning = glob.glob('data/opendatascience Slack export Feb 8 2018/')"
   ]
  },
  {
   "cell_type": "code",
   "execution_count": 353,
   "metadata": {},
   "outputs": [],
   "source": [
    "proj_dsbowl_2017 = glob.glob('data/opendatascience Slack export Feb 8 2018/proj_dsbowl_2017/*.json')"
   ]
  },
  {
   "cell_type": "code",
   "execution_count": 356,
   "metadata": {},
   "outputs": [],
   "source": [
    "proj_ods_introspect = glob.glob('data/opendatascience Slack export Feb 8 2018/proj_ods_introspect/*.json')"
   ]
  },
  {
   "cell_type": "code",
   "execution_count": 416,
   "metadata": {},
   "outputs": [],
   "source": [
    "proj_ = glob.glob('data/opendatascience Slack export Feb 8 2018/proj_*/*.json')"
   ]
  },
  {
   "cell_type": "code",
   "execution_count": 504,
   "metadata": {},
   "outputs": [],
   "source": [
    "all_ = glob.glob('data/opendatascience Slack export Feb 8 2018/*/*.json')"
   ]
  },
  {
   "cell_type": "code",
   "execution_count": 413,
   "metadata": {},
   "outputs": [],
   "source": [
    "df = pd.concat(map(pd.read_json, deep_learning))"
   ]
  },
  {
   "cell_type": "code",
   "execution_count": 505,
   "metadata": {},
   "outputs": [],
   "source": [
    "df = pd.concat(map(pd.read_json, all_))"
   ]
  },
  {
   "cell_type": "code",
   "execution_count": 597,
   "metadata": {},
   "outputs": [],
   "source": [
    "def remove_links(text):\n",
    "    return re.sub('<?\\s?https?.+>?', '', text)\n",
    "\n",
    "def substitute(text):\n",
    "    text = re.sub('\\:([_\\w\\d]+)\\:', '_\\\\1_', text)\n",
    "    text = re.sub('<[@#](\\w)([\\w\\d]+)\\|?[_\\w\\d]+>', '', text)\n",
    "    text = re.sub('\\s?\\d+\\s?', ' ', text)\n",
    "    return text\n",
    "\n",
    "def filter_tokens(tokens):\n",
    "    return filter(lambda token: not re.match('[\\~,:<>\\+\\-\\*`\\'\"\\^\\@\\/]{1,}|\\.{2,}', token), tokens)"
   ]
  },
  {
   "cell_type": "code",
   "execution_count": 507,
   "metadata": {},
   "outputs": [],
   "source": [
    "df['ts'] = df['ts'].astype(int).apply(pd.datetime.fromtimestamp)"
   ]
  },
  {
   "cell_type": "code",
   "execution_count": 508,
   "metadata": {},
   "outputs": [],
   "source": [
    "df['period'] = df.ts.dt.round(pd.tseries.frequencies.Second(10))"
   ]
  },
  {
   "cell_type": "code",
   "execution_count": 509,
   "metadata": {},
   "outputs": [],
   "source": [
    "texts = df[df.subtype.isnull()]['text'] #.groupby(['user', 'period'])['text'].apply('.'.join)"
   ]
  },
  {
   "cell_type": "code",
   "execution_count": 599,
   "metadata": {},
   "outputs": [],
   "source": [
    "corpus = texts[texts.apply(lambda text: isinstance(text, str))].sample(300000) \\\n",
    "    .apply(lambda text: tokenizer.tokenize(substitute(text)))"
   ]
  },
  {
   "cell_type": "code",
   "execution_count": 623,
   "metadata": {},
   "outputs": [],
   "source": [
    "words = np.concatenate(corpus.values)\n",
    "counts = pd.value_counts(words)\n",
    "unk = dict(counts[counts <= 5])"
   ]
  },
  {
   "cell_type": "code",
   "execution_count": 602,
   "metadata": {},
   "outputs": [],
   "source": [
    "def replace_unk(tokens):\n",
    "    return np.array(['_unk_' if token in unk else token for token in tokens])"
   ]
  },
  {
   "cell_type": "code",
   "execution_count": 624,
   "metadata": {},
   "outputs": [],
   "source": [
    "corpus1 = corpus[(corpus.apply(len) >= 2) & (corpus.apply(len) <= 10)] \\\n",
    "    .apply(lambda tokens: replace_unk(filter_tokens(tokens)))\n",
    "corpus2 = corpus1[corpus1.apply(lambda tokens: len(tokens[tokens == '_unk_']) < 2)] \\\n",
    "    .apply(lambda tokens: remove_links(' '.join(tokens)))"
   ]
  },
  {
   "cell_type": "code",
   "execution_count": 625,
   "metadata": {},
   "outputs": [
    {
     "data": {
      "text/plain": [
       "267842"
      ]
     },
     "execution_count": 625,
     "metadata": {},
     "output_type": "execute_result"
    }
   ],
   "source": [
    "corpus2 = corpus2[corpus2.str.len() > 0]\n",
    "corpus2 = corpus2.str.strip()\n",
    "len(corpus2)"
   ]
  },
  {
   "cell_type": "code",
   "execution_count": 626,
   "metadata": {},
   "outputs": [],
   "source": [
    "import csv\n",
    "corpus2.to_frame().to_csv('data/dota.csv', sep='\\t', index=False, header=False, quoting=csv.QUOTE_NONE, escapechar='\\\\')"
   ]
  },
  {
   "cell_type": "code",
   "execution_count": 614,
   "metadata": {},
   "outputs": [],
   "source": [
    "dota = pd.read_csv('data/unk_time_token_dotadata10.csv', header=None)"
   ]
  },
  {
   "cell_type": "code",
   "execution_count": 622,
   "metadata": {},
   "outputs": [],
   "source": [
    "corpus = dota[0].str.split(' ')"
   ]
  },
  {
   "cell_type": "code",
   "execution_count": null,
   "metadata": {},
   "outputs": [],
   "source": []
  }
 ],
 "metadata": {
  "kernelspec": {
   "display_name": "Python 3",
   "language": "python",
   "name": "python3"
  },
  "language_info": {
   "codemirror_mode": {
    "name": "ipython",
    "version": 3
   },
   "file_extension": ".py",
   "mimetype": "text/x-python",
   "name": "python",
   "nbconvert_exporter": "python",
   "pygments_lexer": "ipython3",
   "version": "3.6.3"
  }
 },
 "nbformat": 4,
 "nbformat_minor": 2
}
