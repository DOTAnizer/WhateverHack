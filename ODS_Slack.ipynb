{
 "cells": [
  {
   "cell_type": "code",
   "execution_count": 2,
   "metadata": {},
   "outputs": [],
   "source": [
    "import glob\n",
    "import pandas as pd\n",
    "\n",
    "from nltk.tokenize import TweetTokenizer, ToktokTokenizer\n",
    "import re\n"
   ]
  },
  {
   "cell_type": "code",
   "execution_count": 14,
   "metadata": {},
   "outputs": [],
   "source": [
    "pd.set_option('display.max_columns', len(df.columns))"
   ]
  },
  {
   "cell_type": "code",
   "execution_count": 5,
   "metadata": {},
   "outputs": [],
   "source": [
    "random_flood = glob.glob('data/opendatascience Slack export Feb 8 2018/_random_flood/*.json')"
   ]
  },
  {
   "cell_type": "code",
   "execution_count": 269,
   "metadata": {},
   "outputs": [],
   "source": [
    "deep_learning = glob.glob('data/opendatascience Slack export Feb 8 2018/deep_learning/*.json')"
   ]
  },
  {
   "cell_type": "code",
   "execution_count": 186,
   "metadata": {},
   "outputs": [],
   "source": [
    "df = pd.concat(map(pd.read_json, deep_learning))"
   ]
  },
  {
   "cell_type": "code",
   "execution_count": 108,
   "metadata": {},
   "outputs": [],
   "source": [
    "tokenizer = TweetTokenizer(preserve_case=False, reduce_len=True, strip_handles=True)"
   ]
  },
  {
   "cell_type": "code",
   "execution_count": 254,
   "metadata": {},
   "outputs": [],
   "source": [
    "def remove_links(text):\n",
    "    return re.sub('<?\\s?https?.+>?', '', text)\n",
    "\n",
    "def substitute(text):\n",
    "    text = re.sub('\\:([_\\w\\d]+)\\:', '_\\\\1_', text)\n",
    "    text = re.sub('<[@#](\\w)([\\w\\d]+)\\|?[_\\w\\d]+>', '_\\\\1\\\\2_', text)\n",
    "    return text\n",
    "\n",
    "def filter_tokens(tokens):\n",
    "    return len(tokens) >= 3"
   ]
  },
  {
   "cell_type": "code",
   "execution_count": 205,
   "metadata": {},
   "outputs": [],
   "source": [
    "df['ts'] = df['ts'].astype(int).apply(pd.datetime.fromtimestamp)"
   ]
  },
  {
   "cell_type": "code",
   "execution_count": 237,
   "metadata": {},
   "outputs": [],
   "source": [
    "df['period'] = df.ts.dt.round(pd.tseries.frequencies.Second(15))"
   ]
  },
  {
   "cell_type": "code",
   "execution_count": 238,
   "metadata": {},
   "outputs": [],
   "source": [
    "texts = df[df.subtype.isnull()].groupby(['user', 'period'])['text'].apply('.'.join)"
   ]
  },
  {
   "cell_type": "code",
   "execution_count": 262,
   "metadata": {},
   "outputs": [],
   "source": [
    "corpus = texts \\\n",
    "    .apply(lambda text: tokenizer.tokenize(substitute(text)))\n",
    "    \n",
    "corpus = corpus[corpus.apply(len) >= 3].apply(lambda tokens: remove_links(' '.join(tokens)))"
   ]
  },
  {
   "cell_type": "code",
   "execution_count": 267,
   "metadata": {},
   "outputs": [],
   "source": [
    "corpus = corpus[corpus.str.len() > 10]\n",
    "corpus = corpus.str.strip()"
   ]
  },
  {
   "cell_type": "code",
   "execution_count": 268,
   "metadata": {},
   "outputs": [],
   "source": [
    "import csv\n",
    "corpus.to_frame().to_csv('deep_learning.csv', sep='\\t', index=False, header=False, quoting=csv.QUOTE_NONE, escapechar='\\\\')"
   ]
  },
  {
   "cell_type": "code",
   "execution_count": 251,
   "metadata": {},
   "outputs": [
    {
     "data": {
      "text/plain": [
       "31416"
      ]
     },
     "execution_count": 251,
     "metadata": {},
     "output_type": "execute_result"
    }
   ],
   "source": [
    "corpus.size"
   ]
  },
  {
   "cell_type": "code",
   "execution_count": null,
   "metadata": {},
   "outputs": [],
   "source": []
  }
 ],
 "metadata": {
  "kernelspec": {
   "display_name": "Python 3",
   "language": "python",
   "name": "python3"
  },
  "language_info": {
   "codemirror_mode": {
    "name": "ipython",
    "version": 3
   },
   "file_extension": ".py",
   "mimetype": "text/x-python",
   "name": "python",
   "nbconvert_exporter": "python",
   "pygments_lexer": "ipython3",
   "version": "3.6.3"
  }
 },
 "nbformat": 4,
 "nbformat_minor": 2
}
